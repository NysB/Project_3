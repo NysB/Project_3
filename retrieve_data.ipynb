{
 "cells": [
  {
   "cell_type": "code",
   "execution_count": 53,
   "metadata": {},
   "outputs": [],
   "source": [
    "# Retrieve packages\n",
    "from splinter import Browser\n",
    "from bs4 import BeautifulSoup\n",
    "import pandas as pd\n",
    "import time\n",
    "import re"
   ]
  },
  {
   "cell_type": "code",
   "execution_count": 54,
   "metadata": {},
   "outputs": [],
   "source": [
    "# Define page\n",
    "browser = Browser('chrome')\n",
    "url = \"https://basketball.realgm.com/nba/stats\"\n",
    "browser.visit(url)\n",
    "time.sleep(5)\n",
    "html = browser.html\n",
    "soup = BeautifulSoup(html, 'html.parser')\n",
    "browser.quit()\n"
   ]
  },
  {
   "cell_type": "code",
   "execution_count": 55,
   "metadata": {},
   "outputs": [],
   "source": [
    "# Retrieve Players\n",
    "response = soup.find_all(class_=\"nowrap tablesaw-cell-persist\")\n",
    "\n",
    "players = []\n",
    "url_player = []\n",
    "\n",
    "for x in range(len(response)):\n",
    "    players.append(response[x].text)\n",
    "\n",
    "    text = response[x]\n",
    "    href_pattern = r'<a href=\"([^\"]+)\">([^<]+)</a>'\n",
    "    matches = re.findall(href_pattern, str(text))\n",
    "    href_text = [match[0] for match in matches]\n",
    "    href_text = href_text[0]\n",
    "    href_text = \"https://basketball.realgm.com/\" + href_text\n",
    "    url_player.append(href_text)\n",
    "\n"
   ]
  },
  {
   "cell_type": "code",
   "execution_count": 57,
   "metadata": {},
   "outputs": [],
   "source": [
    "# Define page\n",
    "browser = Browser('chrome')\n",
    "url = url_player[0]\n",
    "browser.visit(url)\n",
    "time.sleep(5)\n",
    "html = browser.html\n",
    "soup = BeautifulSoup(html, 'html.parser')\n",
    "# browser.quit()"
   ]
  },
  {
   "cell_type": "code",
   "execution_count": 74,
   "metadata": {},
   "outputs": [],
   "source": [
    "# Find Current Team Function\n",
    "\n",
    "def find_current_team(soup):\n",
    "    response = soup.find_all(class_=\"half-column-left\")\n",
    "     \n",
    "    current_team_pattern = r'<strong>Current Team:</strong>\\s*<a href=\"[^\"]+\">([^<]+)</a>'\n",
    "    match = re.search(current_team_pattern, str(response[0]))\n",
    "    \n",
    "    if match:\n",
    "        current_team = match.group(1)\n",
    "    else:\n",
    "        current_team = None\n",
    "    \n",
    "    return current_team\n"
   ]
  },
  {
   "cell_type": "code",
   "execution_count": 77,
   "metadata": {},
   "outputs": [],
   "source": [
    "# Find age Function\n",
    "\n",
    "def find_age(soup):\n",
    "    response = soup.find_all(class_=\"half-column-left\")\n",
    "        \n",
    "    age_pattern = r'<strong>Born:</strong>\\s*<a href=\"[^\"]+\">[^<]+</a>\\s*\\(([^)]+)\\)'\n",
    "    match = re.search(age_pattern, str(response[0]))\n",
    "    \n",
    "    if match:\n",
    "        age = match.group(1)\n",
    "    else:\n",
    "        age = None\n",
    "    \n",
    "    return age"
   ]
  },
  {
   "cell_type": "code",
   "execution_count": 81,
   "metadata": {},
   "outputs": [],
   "source": [
    "# Find height Function\n",
    "\n",
    "def find_height(soup):\n",
    "    response = soup.find_all(class_=\"half-column-left\")\n",
    "        \n",
    "    height_pattern = r'<strong>Height:</strong>\\s*([^<]+)'\n",
    "    match = re.search(height_pattern, str(response[0]))\n",
    "    \n",
    "    if match:\n",
    "        height = match.group(1).strip()\n",
    "    else:\n",
    "        height = None\n",
    "    \n",
    "    return height"
   ]
  },
  {
   "cell_type": "code",
   "execution_count": 85,
   "metadata": {},
   "outputs": [],
   "source": [
    "# Find weight Function\n",
    "\n",
    "def find_weight(soup):\n",
    "    response = soup.find_all(class_=\"half-column-left\")\n",
    "        \n",
    "    weight_pattern = r'<strong>Weight:</strong>\\s*([^<]+)'\n",
    "    match = re.search(weight_pattern, str(response[0]))\n",
    "    \n",
    "    if match:\n",
    "        weight = match.group(1).strip()\n",
    "    else:\n",
    "        weight = None\n",
    "    \n",
    "    return weight"
   ]
  },
  {
   "cell_type": "code",
   "execution_count": 95,
   "metadata": {},
   "outputs": [],
   "source": [
    "# Find current NBA status Function\n",
    "\n",
    "def find_nba_status(soup):\n",
    "    response = soup.find_all(class_=\"half-column-right\")\n",
    "        \n",
    "    nba_status_pattern = r'<strong>Current NBA Status:</strong>\\s*([^<]+)'\n",
    "    match = re.search(nba_status_pattern, str(response[0]))\n",
    "    \n",
    "    if match:\n",
    "        nba_status = match.group(1).strip()\n",
    "    else:\n",
    "        nba_status = None\n",
    "    \n",
    "    return nba_status\n",
    "\n"
   ]
  },
  {
   "cell_type": "code",
   "execution_count": 97,
   "metadata": {},
   "outputs": [],
   "source": [
    "# Find draft entry Function\n",
    "\n",
    "def find_draft_entry(soup):\n",
    "    response = soup.find_all(class_=\"half-column-right\")\n",
    "        \n",
    "    draft_entry_pattern = r'<strong>Draft Entry:</strong>\\s*<a[^>]+>([^<]+)</a>'\n",
    "    match = re.search(draft_entry_pattern, str(response[0]))\n",
    "    \n",
    "    if match:\n",
    "        draft_entry = match.group(1).strip()\n",
    "    else:\n",
    "        draft_entry = None\n",
    "    \n",
    "    return draft_entry"
   ]
  },
  {
   "cell_type": "code",
   "execution_count": 111,
   "metadata": {},
   "outputs": [
    {
     "data": {
      "text/plain": [
       "<tr class=\"per_game per_48 per_40 per_36 per_minute minute_per total\">\n",
       "<th class=\"tablesaw-cell-persist tablesaw-sortable-head tablesaw-sortable-ascending\" data-tablesaw-priority=\"persist\" data-tablesaw-sortable-col=\"\" data-tablesaw-sortable-default-col=\"\"><button class=\"tablesaw-sortable-btn\">Season</button></th>\n",
       "<th class=\"tablesaw-sortable-head\" data-tablesaw-sortable-col=\"\"><button class=\"tablesaw-sortable-btn\">Team</button></th>\n",
       "<th class=\"tablesaw-sortable-head\" data-tablesaw-sortable-col=\"\"><button class=\"tablesaw-sortable-btn\">GP</button></th>\n",
       "<th class=\"tablesaw-sortable-head\" data-tablesaw-sortable-col=\"\"><button class=\"tablesaw-sortable-btn\">GS</button></th>\n",
       "<th class=\"tablesaw-sortable-head\" data-tablesaw-sortable-col=\"\"><button class=\"tablesaw-sortable-btn\">MIN</button></th>\n",
       "<th class=\"tablesaw-sortable-head\" data-tablesaw-sortable-col=\"\"><button class=\"tablesaw-sortable-btn\">PTS</button></th>\n",
       "<th class=\"tablesaw-sortable-head\" data-tablesaw-sortable-col=\"\"><button class=\"tablesaw-sortable-btn\">FGM</button></th>\n",
       "<th class=\"tablesaw-sortable-head\" data-tablesaw-sortable-col=\"\"><button class=\"tablesaw-sortable-btn\">FGA</button></th>\n",
       "<th class=\"tablesaw-sortable-head\" data-tablesaw-sortable-col=\"\"><button class=\"tablesaw-sortable-btn\">FG%</button></th>\n",
       "<th class=\"tablesaw-sortable-head\" data-tablesaw-sortable-col=\"\"><button class=\"tablesaw-sortable-btn\">3PM</button></th>\n",
       "<th class=\"tablesaw-sortable-head\" data-tablesaw-sortable-col=\"\"><button class=\"tablesaw-sortable-btn\">3PA</button></th>\n",
       "<th class=\"tablesaw-sortable-head\" data-tablesaw-sortable-col=\"\"><button class=\"tablesaw-sortable-btn\">3P%</button></th>\n",
       "<th class=\"tablesaw-sortable-head\" data-tablesaw-sortable-col=\"\"><button class=\"tablesaw-sortable-btn\">FTM</button></th>\n",
       "<th class=\"tablesaw-sortable-head\" data-tablesaw-sortable-col=\"\"><button class=\"tablesaw-sortable-btn\">FTA</button></th>\n",
       "<th class=\"tablesaw-sortable-head\" data-tablesaw-sortable-col=\"\"><button class=\"tablesaw-sortable-btn\">FT%</button></th>\n",
       "<th class=\"tablesaw-sortable-head\" data-tablesaw-sortable-col=\"\"><button class=\"tablesaw-sortable-btn\">OFF</button></th>\n",
       "<th class=\"tablesaw-sortable-head\" data-tablesaw-sortable-col=\"\"><button class=\"tablesaw-sortable-btn\">DEF</button></th>\n",
       "<th class=\"tablesaw-sortable-head\" data-tablesaw-sortable-col=\"\"><button class=\"tablesaw-sortable-btn\">TRB</button></th>\n",
       "<th class=\"tablesaw-sortable-head\" data-tablesaw-sortable-col=\"\"><button class=\"tablesaw-sortable-btn\">AST</button></th>\n",
       "<th class=\"tablesaw-sortable-head\" data-tablesaw-sortable-col=\"\"><button class=\"tablesaw-sortable-btn\">STL</button></th>\n",
       "<th class=\"tablesaw-sortable-head\" data-tablesaw-sortable-col=\"\"><button class=\"tablesaw-sortable-btn\">BLK</button></th>\n",
       "<th class=\"tablesaw-sortable-head\" data-tablesaw-sortable-col=\"\"><button class=\"tablesaw-sortable-btn\">TOV</button></th>\n",
       "<th class=\"tablesaw-sortable-head\" data-tablesaw-sortable-col=\"\"><button class=\"tablesaw-sortable-btn\">PF</button></th>\n",
       "</tr>"
      ]
     },
     "execution_count": 111,
     "metadata": {},
     "output_type": "execute_result"
    }
   ],
   "source": [
    "response = soup.find_all(class_=\"per_game\")\n",
    "\n",
    "response[0]"
   ]
  },
  {
   "cell_type": "code",
   "execution_count": null,
   "metadata": {},
   "outputs": [],
   "source": []
  }
 ],
 "metadata": {
  "kernelspec": {
   "display_name": "base",
   "language": "python",
   "name": "python3"
  },
  "language_info": {
   "codemirror_mode": {
    "name": "ipython",
    "version": 3
   },
   "file_extension": ".py",
   "mimetype": "text/x-python",
   "name": "python",
   "nbconvert_exporter": "python",
   "pygments_lexer": "ipython3",
   "version": "3.9.13"
  },
  "orig_nbformat": 4
 },
 "nbformat": 4,
 "nbformat_minor": 2
}
